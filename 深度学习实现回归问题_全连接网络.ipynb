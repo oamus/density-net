{
 "cells": [
  {
   "cell_type": "code",
   "execution_count": 1,
   "id": "8b18e03b",
   "metadata": {},
   "outputs": [],
   "source": [
    "# 常规sklearn相关的库和包\n",
    "from sklearn.datasets import make_regression\n",
    "from sklearn.model_selection import train_test_split\n",
    "from matplotlib import pyplot as plt\n",
    "import numpy as np\n",
    "import os\n",
    "\n",
    "# 常规的PyTorch相关的库和包\n",
    "import torch\n",
    "from torch import nn\n",
    "from torch.nn import functional as F\n",
    "\n",
    "# PyTorch 数据打包相关\n",
    "from torch.utils.data import Dataset\n",
    "from torch.utils.data import DataLoader"
   ]
  },
  {
   "cell_type": "code",
   "execution_count": 2,
   "id": "1e9e9e5a",
   "metadata": {},
   "outputs": [],
   "source": [
    "save_path =  \"r./saved_weights2\" # r 不改变里面的转义字符\n",
    "if not os.path.exists(save_path):\n",
    "    os.makedirs(save_path)"
   ]
  },
  {
   "cell_type": "code",
   "execution_count": 3,
   "id": "c6c40913",
   "metadata": {},
   "outputs": [],
   "source": [
    "\"\"\"\n",
    "    生成和切分数据\n",
    "\"\"\"\n",
    "n_features = 1024\n",
    "\n",
    "# 生成数据\n",
    "X, y = make_regression(n_samples=100000, n_features=n_features, n_informative=50,random_state= 0)\n",
    "X += np.random.randn(*X.shape) * 0.001 # *号可以自动解包\n",
    "\n",
    "# 切分数据\n",
    "X_train, X_test, y_train, y_test = train_test_split(X, y, test_size=0.2,random_state= 0)"
   ]
  },
  {
   "cell_type": "code",
   "execution_count": 4,
   "id": "dae00cac",
   "metadata": {},
   "outputs": [],
   "source": [
    "#print(*X.shape)"
   ]
  },
  {
   "cell_type": "code",
   "execution_count": 5,
   "id": "e439a70c",
   "metadata": {},
   "outputs": [],
   "source": [
    "#X.shape"
   ]
  },
  {
   "cell_type": "code",
   "execution_count": 6,
   "id": "41e7f656",
   "metadata": {},
   "outputs": [],
   "source": [
    "#np.random.randn(*X.shape)"
   ]
  },
  {
   "cell_type": "code",
   "execution_count": 7,
   "id": "9cba9505",
   "metadata": {},
   "outputs": [],
   "source": [
    "# a = (1,2,3) \n",
    "# def f(b,c,d): \n",
    "#     pass \n",
    "\n",
    "# f(*a) # b = 1, c = 2, d = 3"
   ]
  },
  {
   "cell_type": "markdown",
   "id": "f24f9bb4",
   "metadata": {},
   "source": [
    "\"\"\"\n",
    "    深度学习实现线性回归\n",
    "    \n",
    "        - 数据打包\n",
    "        - 模型搭建\n",
    "        - 模型训练\n",
    "        - 模型评估\n",
    "\"\"\""
   ]
  },
  {
   "cell_type": "code",
   "execution_count": 8,
   "id": "4da41e02",
   "metadata": {},
   "outputs": [],
   "source": [
    "\"\"\"\n",
    "    数据打包\n",
    "\"\"\"\n",
    "\n",
    "class MyDataset(Dataset):\n",
    "    \n",
    "    def __init__(self, X, y):\n",
    "        self.X = X\n",
    "        self.y = y\n",
    "    \n",
    "    def __getitem__(self, index):\n",
    "        return torch.tensor(data=self.X[index], dtype=torch.float32), torch.tensor(data=[self.y[index]], dtype=torch.float32)\n",
    "    \n",
    "    def __len__(self):\n",
    "        return len(self.y)\n",
    "\n",
    "# 训练集数据加载器\n",
    "train_dataset = MyDataset(X=X_train, y=y_train)\n",
    "\n",
    "# print(train_dataset.__len__())\n",
    "\n",
    "# print(train_dataset.__getitem__(0))\n",
    "\n",
    "train_dataloader = DataLoader(dataset=train_dataset, batch_size=256, shuffle=True)\n",
    "\n",
    "# 测试集数据加载器\n",
    "test_dataset = MyDataset(X=X_test, y=y_test)\n",
    "test_dataloader = DataLoader(dataset=test_dataset, batch_size=512, shuffle=False)"
   ]
  },
  {
   "cell_type": "code",
   "execution_count": 9,
   "id": "81724883",
   "metadata": {},
   "outputs": [],
   "source": [
    "# 检测设备\n",
    "\n",
    "# device = \"cuda:0\" if torch.cuda.is_available() else \"cpu\"\n",
    "\n",
    "device = torch.device(\"cuda:0\" if torch.cuda.is_available() else \"cpu\")"
   ]
  },
  {
   "cell_type": "code",
   "execution_count": 10,
   "id": "f4beb116",
   "metadata": {},
   "outputs": [],
   "source": [
    "\"\"\"\n",
    "    定义模型\n",
    "\"\"\"\n",
    "\n",
    "class Model(nn.Module):\n",
    "    \n",
    "    def __init__(self, in_features, out_features):\n",
    "        super(Model, self).__init__()\n",
    "        self.linear1 = nn.Linear(in_features=in_features, out_features=512)\n",
    "        self.linear2 = nn.Linear(in_features=512, out_features=128)\n",
    "        self.linear3 = nn.Linear(in_features=128, out_features=out_features)\n",
    "    \n",
    "    def forward(self, x):\n",
    "        \n",
    "        x = self.linear1(x)\n",
    "        x = F.relu(x)\n",
    "        \n",
    "        x = self.linear2(x)\n",
    "        x = F.relu(x)\n",
    "        \n",
    "        x = self.linear3(x)\n",
    "        return x\n",
    "    "
   ]
  },
  {
   "cell_type": "code",
   "execution_count": 11,
   "id": "59539bae",
   "metadata": {},
   "outputs": [
    {
     "data": {
      "text/plain": [
       "Model(\n",
       "  (linear1): Linear(in_features=1024, out_features=512, bias=True)\n",
       "  (linear2): Linear(in_features=512, out_features=128, bias=True)\n",
       "  (linear3): Linear(in_features=128, out_features=1, bias=True)\n",
       ")"
      ]
     },
     "execution_count": 11,
     "metadata": {},
     "output_type": "execute_result"
    }
   ],
   "source": [
    "# 构建模型\n",
    "model = Model(in_features=n_features, out_features=1)\n",
    "\n",
    "# 参数按照实际设备类型搬家\n",
    "model.to(device=device)"
   ]
  },
  {
   "cell_type": "code",
   "execution_count": 12,
   "id": "e8a2f5be",
   "metadata": {},
   "outputs": [],
   "source": [
    "# 构建损失函数\n",
    "loss_fn = nn.MSELoss()"
   ]
  },
  {
   "cell_type": "code",
   "execution_count": 13,
   "id": "d01989bf",
   "metadata": {},
   "outputs": [],
   "source": [
    "# 构建优化器\n",
    "optimizer = torch.optim.SGD(params=model.parameters(), lr=5e-5)"
   ]
  },
  {
   "cell_type": "code",
   "execution_count": 14,
   "id": "479f8b79",
   "metadata": {},
   "outputs": [],
   "source": [
    "# 过程监控相关的工具\n",
    "def get_loss(model=model, dataloader=test_dataloader, loss_fn=loss_fn):\n",
    "    \n",
    "    model.eval()\n",
    "    \n",
    "    with torch.no_grad():\n",
    "        # 累计每个批量的损失\n",
    "        losses = []\n",
    "        for X, y in dataloader:\n",
    "            \n",
    "            # 数据搬家\n",
    "            X = X.to(device=device)\n",
    "            y = y.to(device=device)\n",
    "            \n",
    "            # 正向传播\n",
    "            y_pred = model(X)\n",
    "            \n",
    "            # 计算损失\n",
    "            loss = loss_fn(y_pred, y)\n",
    "            \n",
    "            # 追加到结果列表中\n",
    "            losses.append(loss)\n",
    "                     \n",
    "        return torch.tensor(data=losses, dtype=torch.float32).mean().item()\n",
    "    "
   ]
  },
  {
   "cell_type": "code",
   "execution_count": 15,
   "id": "92ba94bb",
   "metadata": {},
   "outputs": [],
   "source": [
    "# 定义训练过程\n",
    "\n",
    "def train(model=model, \n",
    "          epochs=20, \n",
    "          loss_fn=loss_fn, \n",
    "          optimizer=optimizer, \n",
    "          train_dataloader=train_dataloader,\n",
    "          test_dataloader=test_dataloader):\n",
    "    \n",
    "    best_loss = np.inf\n",
    "    for epoch in range(1, epochs + 1):\n",
    "        \n",
    "        for X, y in train_dataloader:\n",
    "            \n",
    "            # 数据搬家\n",
    "            X = X.to(device=device)\n",
    "            y = y.to(device=device)\n",
    "            \n",
    "            # 正向传播\n",
    "            y_pred = model(X)\n",
    "            \n",
    "            # 计算损失\n",
    "            loss = loss_fn(y_pred, y)\n",
    "            \n",
    "            # 梯度下降\n",
    "            loss.backward()\n",
    "            \n",
    "            # 优化一步\n",
    "            optimizer.step()\n",
    "            \n",
    "            # 清空梯度\n",
    "            optimizer.zero_grad()\n",
    "            \n",
    "        # 过程监控\n",
    "        # 按epoch 来\n",
    "        # 整个训练集上的情况，整个测试集上的情况\n",
    "        train_loss = round(get_loss(model=model, dataloader=train_dataloader, loss_fn=loss_fn), 3)\n",
    "        test_loss = round(get_loss(model=model, dataloader=test_dataloader, loss_fn=loss_fn), 3)\n",
    "                    \n",
    "        print(\"当前为第 {} 轮，训练集损失为：{}，测试集损失为：{}\".format(epoch, train_loss, test_loss))\n",
    "        \n",
    "        if test_loss < best_loss:\n",
    "            print(\"保存模型\")\n",
    "            best_loss = test_loss\n",
    "            torch.save(obj=model.state_dict(), f=os.path.join(save_path, \"epoch_{}_train_loss_{}_test_acc_{}.pt\".format(epoch, train_loss, test_loss)))"
   ]
  },
  {
   "cell_type": "code",
   "execution_count": 16,
   "id": "47ad8de1",
   "metadata": {
    "scrolled": false
   },
   "outputs": [
    {
     "name": "stdout",
     "output_type": "stream",
     "text": [
      "当前为第 1 轮，训练集损失为：415.088，测试集损失为：413.48\n",
      "保存模型\n",
      "当前为第 2 轮，训练集损失为：178.317，测试集损失为：233.689\n",
      "保存模型\n",
      "当前为第 3 轮，训练集损失为：82.21，测试集损失为：151.942\n",
      "保存模型\n",
      "当前为第 4 轮，训练集损失为：45.104，测试集损失为：120.034\n",
      "保存模型\n",
      "当前为第 5 轮，训练集损失为：29.762，测试集损失为：106.168\n",
      "保存模型\n",
      "当前为第 6 轮，训练集损失为：20.642，测试集损失为：97.193\n",
      "保存模型\n",
      "当前为第 7 轮，训练集损失为：17.401，测试集损失为：95.292\n",
      "保存模型\n",
      "当前为第 8 轮，训练集损失为：12.118，测试集损失为：89.78\n",
      "保存模型\n",
      "当前为第 9 轮，训练集损失为：8.849，测试集损失为：85.665\n",
      "保存模型\n",
      "当前为第 10 轮，训练集损失为：7.437，测试集损失为：84.545\n",
      "保存模型\n",
      "当前为第 11 轮，训练集损失为：6.173，测试集损失为：83.378\n",
      "保存模型\n",
      "当前为第 12 轮，训练集损失为：5.186，测试集损失为：81.127\n",
      "保存模型\n",
      "当前为第 13 轮，训练集损失为：4.262，测试集损失为：80.811\n",
      "保存模型\n",
      "当前为第 14 轮，训练集损失为：3.9，测试集损失为：80.399\n",
      "保存模型\n",
      "当前为第 15 轮，训练集损失为：3.074，测试集损失为：79.7\n",
      "保存模型\n",
      "当前为第 16 轮，训练集损失为：2.69，测试集损失为：79.186\n",
      "保存模型\n",
      "当前为第 17 轮，训练集损失为：2.411，测试集损失为：78.472\n",
      "保存模型\n",
      "当前为第 18 轮，训练集损失为：2.205，测试集损失为：77.891\n",
      "保存模型\n",
      "当前为第 19 轮，训练集损失为：1.786，测试集损失为：77.713\n",
      "保存模型\n",
      "当前为第 20 轮，训练集损失为：1.881，测试集损失为：77.642\n",
      "保存模型\n"
     ]
    }
   ],
   "source": [
    "train()"
   ]
  },
  {
   "cell_type": "code",
   "execution_count": null,
   "id": "0e94a49c",
   "metadata": {},
   "outputs": [],
   "source": []
  }
 ],
 "metadata": {
  "kernelspec": {
   "display_name": "Python 3",
   "language": "python",
   "name": "python3"
  },
  "language_info": {
   "codemirror_mode": {
    "name": "ipython",
    "version": 3
   },
   "file_extension": ".py",
   "mimetype": "text/x-python",
   "name": "python",
   "nbconvert_exporter": "python",
   "pygments_lexer": "ipython3",
   "version": "3.8.8"
  }
 },
 "nbformat": 4,
 "nbformat_minor": 5
}
